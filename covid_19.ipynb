{
 "cells": [
  {
   "cell_type": "code",
   "execution_count": 316,
   "metadata": {},
   "outputs": [],
   "source": [
    "import torch\n",
    "import numpy as np\n",
    "import torch.nn as nn\n",
    "import torch.nn.functional as F\n",
    "import matplotlib.pyplot as plt\n",
    "import torch.optim as optim\n",
    "import pandas as pd\n",
    "import cv2\n",
    "import os\n",
    "import numpy as np\n",
    "import pydicom as dicom\n",
    "import pydicom.uid\n",
    "import json\n",
    "from sklearn.model_selection import train_test_split"
   ]
  },
  {
   "cell_type": "code",
   "execution_count": 317,
   "metadata": {},
   "outputs": [],
   "source": [
    "#make list for images and labels and add by collecting from each source\n",
    "images = []\n",
    "labels = []\n",
    "\n",
    "def get_images(path,condition):\n",
    "    img_name = list(os.listdir(path))\n",
    "    #print(img_name)\n",
    "    for i in img_name:\n",
    "        img_path = os.path.join(path,i)\n",
    "        image = cv2.imread(img_path,cv2.IMREAD_GRAYSCALE)\n",
    "        #print(img_path)\n",
    "        image=cv2.resize(image,(28,28))\n",
    "        image= image.reshape(1,28,28)\n",
    "        images.append(image)\n",
    "        labels.append(condition)"
   ]
  },
  {
   "cell_type": "code",
   "execution_count": 318,
   "metadata": {},
   "outputs": [],
   "source": [
    "#importing images from source 1,2,7\n",
    "# it is given that images from all these sources are positive cases\n",
    "# so we are using 1 for positive condition and - for negative\n",
    "path = \"C:/Users/Lenovo/OneDrive/Documents/civil 6th sem/Deep Learning/assignment on covid/Covid19action-radiology-CXR_v1.1/images\"\n",
    "path_1 = path+\"/Source1\"\n",
    "path_2 = path+\"/Source2\"\n",
    "path_7 = path+\"/Source7\"\n",
    "\n",
    "get_images(path_1,1)\n",
    "get_images(path_2,1)\n",
    "get_images(path_7,1)"
   ]
  },
  {
   "cell_type": "code",
   "execution_count": 319,
   "metadata": {},
   "outputs": [
    {
     "name": "stdout",
     "output_type": "stream",
     "text": [
      "(1, 28, 28)\n",
      "199\n"
     ]
    }
   ],
   "source": [
    "print(images[0].shape)\n",
    "print(len(labels))"
   ]
  },
  {
   "cell_type": "code",
   "execution_count": 320,
   "metadata": {},
   "outputs": [],
   "source": [
    "def img_from_json(path,name):\n",
    "    img_name = list(os.listdir(path))\n",
    "    #print(name)\n",
    "    #print(img_name)\n",
    "    for i in img_name:\n",
    "        img_path = os.path.join(path,i)\n",
    "        image = cv2.imread(img_path,cv2.IMREAD_GRAYSCALE)\n",
    "        image = cv2.resize(image,(28,28))\n",
    "        image = image.reshape(1,28,28)\n",
    "        #print(img_path)\n",
    "        if i in name:\n",
    "            images.append(image)\n",
    "            labels.append(name[i])"
   ]
  },
  {
   "cell_type": "code",
   "execution_count": 321,
   "metadata": {},
   "outputs": [],
   "source": [
    "# importing images from source 5\n",
    "# it has its labels in json file\n",
    "\n",
    "annotation_path=\"C:/Users/Lenovo/OneDrive/Documents/civil 6th sem/Deep Learning/assignment on covid/New folder (2)/covid-chestxray-dataset-master/annotations/annotation_file.json\"\n",
    "f = open(annotation_path,) \n",
    "data = json.load(f) \n",
    "# it contain info  about each patient in object \"images\" and it is list ,insise that list  \"filename\" contain file name and 'metadata'\n",
    "#inside metadata it contain object finding which is string either covid-19 or oher deasese.\n",
    "filename=dict()\n",
    "x=data['images']\n",
    "for i in x:\n",
    "    file=i['file_name']\n",
    "    type_covid=i['metadata']\n",
    "    if type_covid['finding']=='COVID_19':\n",
    "        filename[file]=1\n",
    "    else:\n",
    "        filename[file]=0\n",
    "        \n",
    "path_5=\"C:/Users/Lenovo/OneDrive/Documents/civil 6th sem/Deep Learning/assignment on covid/New folder (2)/covid-chestxray-dataset-master/images\"\n",
    "img_from_json(path = path_5,name = filename)"
   ]
  },
  {
   "cell_type": "code",
   "execution_count": 322,
   "metadata": {},
   "outputs": [],
   "source": [
    "# in the same source 5 we have metadata.csv file for remaining images\n",
    "csv_path = \"C:/Users/Lenovo/OneDrive/Documents/civil 6th sem/Deep Learning/assignment on covid/New folder (2)/covid-chestxray-dataset-master/metadata.csv\"\n",
    "names_file = pd.read_csv(csv_path,usecols=['filename','finding'])\n",
    "filename2 = dict()\n",
    "for i,row in names_file.iterrows():\n",
    "    if row['finding'] == 'COVID-19':\n",
    "        filename2[row[\"filename\"]] = 1\n",
    "    else:\n",
    "        filename2[row[\"filename\"]] = 0\n",
    "\n",
    "img_from_json(path = path_5,name = filename2)"
   ]
  },
  {
   "cell_type": "code",
   "execution_count": 323,
   "metadata": {},
   "outputs": [
    {
     "data": {
      "text/plain": [
       "1013"
      ]
     },
     "execution_count": 323,
     "metadata": {},
     "output_type": "execute_result"
    }
   ],
   "source": [
    "#importing from\n",
    "len(images)"
   ]
  },
  {
   "cell_type": "code",
   "execution_count": 324,
   "metadata": {},
   "outputs": [],
   "source": [
    "filename3 = dict()\n",
    "path_6 = \"C:/Users/Lenovo/OneDrive/Documents/civil 6th sem/Deep Learning/assignment on covid/New folder/Figure1-COVID-chestxray-dataset-master\"\n",
    "names_file_2 = pd.read_csv(path_6+'/metadata.csv',usecols=['patientid','finding'])\n",
    "for i,row in names_file_2.iterrows():\n",
    "    if row['finding'] == 'COVID-19':\n",
    "        filename3[row['patientid']+'.jpg'] = 1\n",
    "    else:\n",
    "        filename3[row['patientid']+'.jpg'] = 0\n",
    "\n",
    "img_from_json(path = path_6+'/images',name = filename3)"
   ]
  },
  {
   "cell_type": "code",
   "execution_count": 325,
   "metadata": {},
   "outputs": [],
   "source": [
    "path_4 = 'C:/Users/Lenovo/OneDrive/Documents/civil 6th sem/Deep Learning/assignment on covid/New folder (3)/images'\n",
    "#get_images_dcm(path_4,0)\n",
    "\n",
    "#make list for images and labels and add by collecting from each source\n",
    "img_name = list(os.listdir(path_4))\n",
    "l=0\n",
    "#print(img_name)\n",
    "for i in img_name:\n",
    "    img_path = os.path.join(path_4,i)\n",
    "    image = dicom.read_file(img_path )\n",
    "    if image is not None:\n",
    "        image=cv2.resize(image.pixel_array,(28,28))\n",
    "        image= image.reshape(1,28,28)\n",
    "        images.append(image)\n",
    "        labels.append(0)\n",
    "# img_name = list(os.listdir(path_4))\n",
    "# x = dicom.dcmread(path_4+'/'+img_name[0])"
   ]
  },
  {
   "cell_type": "code",
   "execution_count": 327,
   "metadata": {},
   "outputs": [
    {
     "data": {
      "text/plain": [
       "4063"
      ]
     },
     "execution_count": 327,
     "metadata": {},
     "output_type": "execute_result"
    }
   ],
   "source": [
    "len(labels)"
   ]
  },
  {
   "cell_type": "code",
   "execution_count": 328,
   "metadata": {
    "scrolled": true
   },
   "outputs": [],
   "source": [
    "path_6 = \"C:/Users/Lenovo/OneDrive/Documents/civil 6th sem/Deep Learning/assignment on covid/New folder (4)\"\n",
    "img_name = list(os.listdir(path_6))\n",
    "l=0\n",
    "#print(img_name)\n",
    "for i in img_name:\n",
    "    img_path = os.path.join(path_6,i)\n",
    "    image = dicom.read_file(img_path)\n",
    "#     image.file_meta.TransferSyntaxUID = pydicom.uid.ImplicitVRLittleEndian  # or whatever is the correct transfer syntax for the file\n",
    "    if image is not None:\n",
    "        image=cv2.resize(image.pixel_array,(28,28))\n",
    "        image= image.reshape(1,28,28)\n",
    "        images.append(image)\n",
    "        labels.append(0)"
   ]
  },
  {
   "cell_type": "code",
   "execution_count": 329,
   "metadata": {},
   "outputs": [
    {
     "data": {
      "text/plain": [
       "30747"
      ]
     },
     "execution_count": 329,
     "metadata": {},
     "output_type": "execute_result"
    }
   ],
   "source": [
    "len(labels)"
   ]
  },
  {
   "cell_type": "code",
   "execution_count": 330,
   "metadata": {},
   "outputs": [],
   "source": [
    "images_copy = images\n",
    "labels_copy = labels"
   ]
  },
  {
   "cell_type": "code",
   "execution_count": 331,
   "metadata": {},
   "outputs": [
    {
     "name": "stdout",
     "output_type": "stream",
     "text": [
      "30747\n"
     ]
    }
   ],
   "source": [
    "\n",
    "\n",
    "from sklearn.model_selection import train_test_split\n",
    "\n",
    "print(len(labels))\n",
    "X_train, X_test, y_train, y_test = train_test_split(np.array(images), np.array(labels), test_size=0.20, random_state=42)\n",
    "#as the images size is large their is no need to give more size to train\n",
    "#we split data into 80:20 percent as train:test set"
   ]
  },
  {
   "cell_type": "code",
   "execution_count": 332,
   "metadata": {},
   "outputs": [],
   "source": [
    "# class Data(Dataset):\n",
    "#     def __len__(self):\n",
    "#         return (len(labels))\n",
    "#     def __getitem__(self,index):\n",
    "#         image = images[index]\n",
    "#         label = labels[index]\n",
    "#         sample = {'images':image,'labels':label}\n",
    "#         return sample\n",
    "        \n",
    "# train_data = Data()"
   ]
  },
  {
   "cell_type": "code",
   "execution_count": 333,
   "metadata": {},
   "outputs": [],
   "source": [
    "# from torch.utils.data import DataLoader,Dataset\n",
    "# # # train_data = {'images':images,'labels':labels}\n",
    "# # # images = pd.DataFrame(images)\n",
    "# # # labels = pd.DataFrame(labels)\n",
    "# # # img=[]\n",
    "# # # lab =[]\n",
    "# # t=[]\n",
    "# # for i in range(len(labels)):\n",
    "# #     if type(labels[i]) == list:\n",
    "# #         labels.pop(i)\n",
    "# #         images.pop(i)"
   ]
  },
  {
   "cell_type": "code",
   "execution_count": 334,
   "metadata": {},
   "outputs": [],
   "source": [
    "# trainloader = DataLoader(train_data,batch_size=64,shuffle=True)\n",
    "# # type(t[1]['labels'])\n",
    "# # trainloader = DataLoader(t,batch_size=64,shuffle=True)\n",
    "# (type(train_data[1]['labels']))==int"
   ]
  },
  {
   "cell_type": "code",
   "execution_count": 335,
   "metadata": {},
   "outputs": [
    {
     "name": "stdout",
     "output_type": "stream",
     "text": [
      "96\n",
      "(96, 64, 1, 28, 28)\n",
      "(384, 64, 1, 28, 28)\n"
     ]
    }
   ],
   "source": [
    "test_l= int (len(y_test)/64)\n",
    "train_l= int (len(X_train)/64)\n",
    "print(test_l)\n",
    "train_x=[]\n",
    "train_y=[]\n",
    "test_x=[]\n",
    "test_y=[]\n",
    "for i in range(test_l):\n",
    "    s=[]\n",
    "    z=[]\n",
    "    for e in range(64):\n",
    "        s.append(X_test[((64*i)+e)])\n",
    "        z.append(y_test[((64*i)+e)] )         \n",
    "    test_x.append(s)\n",
    "    test_y.append(z)\n",
    "    \n",
    "test_x=np.array(test_x)\n",
    "test_y=np.array(test_y)\n",
    "\n",
    "for i in range(train_l):\n",
    "    s=[]\n",
    "    z=[]\n",
    "    for e in range(64):\n",
    "        s.append(X_train[((64*i)+e)])\n",
    "        z.append(y_train[((64*i)+e)])         \n",
    "    train_x.append(s)\n",
    "    train_y.append(z)\n",
    "train_x=np.array(train_x)\n",
    "train_y=np.array(train_y)\n",
    "\n",
    "print(test_x.shape)\n",
    "print(train_x.shape)\n",
    "#here we convert test and train set of images and we used batch size of 32\n",
    "#we have tottal 1024 test images and 4288 train images,we also randomly suffle the data\n",
    "\n"
   ]
  },
  {
   "cell_type": "code",
   "execution_count": 336,
   "metadata": {},
   "outputs": [],
   "source": [
    "# import torch\n",
    "# import torch.nn as nn\n",
    "# import torch.nn.functional as F\n",
    "# import torch.optim as optim\n",
    "\n",
    "# class net(nn.Module):\n",
    "#   def __init__(self):\n",
    "#     super(net,self).__init__()\n",
    "#     self.convo1=nn.Conv2d(1,20,kernel_size=8,stride=1,padding=0)\n",
    "#     self.max1=nn.MaxPool2d(kernel_size=2,stride=1,padding=0)\n",
    "#     self.convo2=nn.Conv2d(20,40,kernel_size=4,stride=2,padding=0)\n",
    "#     self.max2=nn.MaxPool2d(kernel_size=3,stride=2,padding=0)\n",
    "#     self.fc1=nn.Linear(16*40,100)\n",
    "#     self.fc1_dropout=nn.Dropout(0.2)\n",
    "#     self.fc2=nn.Linear(100,64)\n",
    "#     self.fc3=nn.Linear(64,10)\n",
    "#   def forward(self,x):\n",
    "#     x=F.relu(self.convo1(x))\n",
    "#     x=self.max1(x)\n",
    "#     x=F.relu(self.convo2(x))\n",
    "#     x=self.max2(x)\n",
    "#     x=x.view(-1,16*40)\n",
    "#     x=F.relu(self.fc1(x))\n",
    "#     x=F.relu(self.fc2(x))\n",
    "#     x=F.log_softmax(self.fc3(x),dim=1)\n",
    "#     return x\n",
    "\n"
   ]
  },
  {
   "cell_type": "code",
   "execution_count": 337,
   "metadata": {},
   "outputs": [],
   "source": [
    "import torch.nn as nn\n",
    "import torch.nn.functional as F\n",
    "import torch.optim as optim\n",
    "import torch\n",
    "class net(nn.Module):\n",
    "  def __init__(self):\n",
    "    super(net,self).__init__()\n",
    "    self.conv1=nn.Conv2d(1,20,kernel_size=8,stride=2,padding=0)\n",
    "    self.mpool1=nn.MaxPool2d(kernel_size=2,stride=1,padding=0)\n",
    "    self.conv2=nn.Conv2d(20,40,kernel_size=4,stride=1,padding=0)\n",
    "    self.mpool2=nn.MaxPool2d(kernel_size=2,stride=1,padding=0)\n",
    "    self.fc1=nn.Linear(36*40,100)\n",
    "    self.fc1_drop=nn.Dropout(0.2)\n",
    "    self.fc2=nn.Linear(100,20)\n",
    "    self.fc3=nn.Linear(20,2)\n",
    "  def forward(self,x):\n",
    "    x = x.view(-1, 1, 28, 28) \n",
    "    x=self.conv1(x)\n",
    "    x=F.relu(x)\n",
    "    x=self.mpool1(x)\n",
    "    x=self.conv2(x)\n",
    "    x=F.relu(x)\n",
    "    x=self.mpool2(x)\n",
    "    x=x.view(-1,40*36)\n",
    "    x=self.fc1(x)\n",
    "    x=F.relu(x)\n",
    "    x=self.fc1_drop(x)\n",
    "    x=self.fc2(x)\n",
    "    x=F.relu(x)\n",
    "    x=self.fc3(x)\n",
    "    x=F.log_softmax(x,dim=1)\n",
    "    return x\n"
   ]
  },
  {
   "cell_type": "code",
   "execution_count": 340,
   "metadata": {},
   "outputs": [],
   "source": [
    "Net = net()\n",
    "learning_rate=0.001\n",
    "momentum=0.5\n",
    "num_epochs=10\n",
    "optimizer = optim.SGD(Net.parameters(), lr=learning_rate,\n",
    "                      momentum=momentum)"
   ]
  },
  {
   "cell_type": "code",
   "execution_count": 341,
   "metadata": {},
   "outputs": [
    {
     "name": "stdout",
     "output_type": "stream",
     "text": [
      "Epoch 1/10 : Training loss: 0.1303 | Training Accuracy: 79.7133\n",
      "Epoch 2/10 : Training loss: 0.1061 | Training Accuracy: 79.9267\n",
      "Epoch 3/10 : Training loss: 0.1011 | Training Accuracy: 79.9500\n",
      "Epoch 4/10 : Training loss: 0.0975 | Training Accuracy: 79.9800\n",
      "Epoch 5/10 : Training loss: 0.0946 | Training Accuracy: 80.0133\n",
      "Epoch 6/10 : Training loss: 0.0929 | Training Accuracy: 80.0300\n",
      "Epoch 7/10 : Training loss: 0.0914 | Training Accuracy: 80.0133\n",
      "Epoch 8/10 : Training loss: 0.0894 | Training Accuracy: 80.0533\n",
      "Epoch 9/10 : Training loss: 0.0885 | Training Accuracy: 80.0667\n",
      "Epoch 10/10 : Training loss: 0.0864 | Training Accuracy: 80.0433\n"
     ]
    }
   ],
   "source": [
    "criterion = nn.CrossEntropyLoss()\n",
    "train_loss = []\n",
    "train_acc = []\n",
    "\n",
    "\n",
    "for epoch in range(num_epochs):\n",
    "#     epochStartTime = time.time()\n",
    "    \n",
    "    running_loss = 0.0 \n",
    "    running_corr = 0\n",
    "        \n",
    "    for i,data in enumerate(train_x):\n",
    "        inputs1 = data\n",
    "        labels1=train_y[i]\n",
    "        inputs=torch.from_numpy(inputs1)\n",
    "        label=torch.from_numpy(labels1)\n",
    "       \n",
    "         \n",
    "        \n",
    "        # Initializing model gradients to zero\n",
    "        optimizer.zero_grad()\n",
    "        # Data feed-forward through the network\n",
    "        outputs = Net(inputs.float())\n",
    "        # Predicted class is the one with maximum probability\n",
    "        preds = torch.argmax(outputs,dim=1)\n",
    "        # Finding the loss\n",
    "        loss = F.nll_loss(outputs, label.long())\n",
    "        # Calculating gradients\n",
    "        loss.backward()\n",
    "        optimizer.step()\n",
    "\n",
    "        # Accumulating the loss for each batch\n",
    "        running_loss += loss \n",
    "        # Accumulate number of correct predictions\n",
    "        running_corr += torch.sum(preds==label.long())    \n",
    "        \n",
    "   \n",
    "    # Calculating gradients\n",
    "    \n",
    "    # Updating the model parameters\n",
    "   \n",
    "        \n",
    "    epoch_loss = running_loss.item()/(i+1)   #Total loss for one epoch\n",
    "    epoch_acc = running_corr.item()/30000\n",
    "    \n",
    "    \n",
    "         \n",
    "    train_loss.append(epoch_loss) #Saving the loss over epochs for plotting the graph\n",
    "    train_acc.append(epoch_acc) #Saving the accuracy over epochs for plotting the graph\n",
    "\n",
    "    print('Epoch {:.0f}/{:.0f} : Training loss: {:.4f} | Training Accuracy: {:.4f}'.format(epoch+1,num_epochs,epoch_loss,epoch_acc*100))\n",
    "       "
   ]
  },
  {
   "cell_type": "code",
   "execution_count": 342,
   "metadata": {},
   "outputs": [
    {
     "data": {
      "text/plain": [
       "6150"
      ]
     },
     "execution_count": 342,
     "metadata": {},
     "output_type": "execute_result"
    }
   ],
   "source": [
    "len(X_test)"
   ]
  },
  {
   "cell_type": "code",
   "execution_count": 343,
   "metadata": {},
   "outputs": [
    {
     "name": "stdout",
     "output_type": "stream",
     "text": [
      "Testing accuracy =  97.90243902439025\n"
     ]
    }
   ],
   "source": [
    "correct_pred = 0\n",
    "for i in range(len(test_x)):\n",
    "    input1=test_x[i]\n",
    "    label1=test_y[i]\n",
    "    inputs=torch.from_numpy(input1)\n",
    "    labels=torch.from_numpy(label1)\n",
    "       \n",
    "    \n",
    "    # Feedforward train data batch through model\n",
    "    output = Net(inputs.float()) \n",
    "    # Predicted class is the one with maximum probability\n",
    "    preds = torch.argmax(output,dim=1)\n",
    "    correct_pred += torch.sum(preds==labels.long())\n",
    "\n",
    "test_accuracy = correct_pred.item()/6150\n",
    "print('Testing accuracy = ',test_accuracy*100)\n",
    "\n"
   ]
  },
  {
   "cell_type": "code",
   "execution_count": 344,
   "metadata": {},
   "outputs": [
    {
     "data": {
      "image/png": "[encoded data removed]",
      "text/plain": [
       "<Figure size 1080x360 with 2 Axes>"
      ]
     },
     "metadata": {
      "needs_background": "light"
     },
     "output_type": "display_data"
    }
   ],
   "source": [
    "import matplotlib.pyplot as plt\n",
    "fig = plt.figure(figsize=[15,5]) \n",
    "plt.subplot(121)\n",
    "plt.plot(range(num_epochs),train_loss,'r-',label='Loss') \n",
    "plt.legend(loc='upper right')\n",
    "plt.xlabel('Epochs')\n",
    "plt.ylabel('Training')\n",
    "plt.subplot(122)\n",
    "plt.plot(range(num_epochs),train_acc,'g-',label='Accuracy') \n",
    "plt.legend(loc='upper right')\n",
    "plt.xlabel('Epochs')\n",
    "plt.ylabel('Training')\n",
    "plt.show()"
   ]
  },
  {
   "cell_type": "code",
   "execution_count": 311,
   "metadata": {
    "scrolled": true
   },
   "outputs": [],
   "source": [
    "# # print(type(torch.from_numpy(train_y[0])))\n",
    "# # torch.from_numpy(train_y[0])\n",
    "# # train_y\n",
    "# k=0\n",
    "# for data in enumerate(trainloader):\n",
    "#     if k==3:\n",
    "#         break\n",
    "#     print(data['images'])\n",
    "#     k = k+1"
   ]
  },
  {
   "cell_type": "code",
   "execution_count": 312,
   "metadata": {},
   "outputs": [
    {
     "name": "stdout",
     "output_type": "stream",
     "text": [
      "Epoch 1/20 : Training loss: 0.2347 | Training Accuracy: 5.9838\n",
      "Epoch 2/20 : Training loss: 0.1633 | Training Accuracy: 6.3895\n",
      "Epoch 3/20 : Training loss: 0.1102 | Training Accuracy: 6.3895\n",
      "Epoch 4/20 : Training loss: 0.1111 | Training Accuracy: 6.3895\n",
      "Epoch 5/20 : Training loss: 0.2016 | Training Accuracy: 6.3895\n",
      "Epoch 6/20 : Training loss: 0.1072 | Training Accuracy: 6.3895\n",
      "Epoch 7/20 : Training loss: 0.1040 | Training Accuracy: 6.3895\n",
      "Epoch 8/20 : Training loss: 0.0960 | Training Accuracy: 6.3895\n",
      "Epoch 9/20 : Training loss: 0.0709 | Training Accuracy: 6.3895\n",
      "Epoch 10/20 : Training loss: 0.1533 | Training Accuracy: 6.3895\n",
      "Epoch 11/20 : Training loss: 0.0765 | Training Accuracy: 6.3895\n",
      "Epoch 12/20 : Training loss: 0.0890 | Training Accuracy: 6.3895\n",
      "Epoch 13/20 : Training loss: 0.0937 | Training Accuracy: 6.3895\n",
      "Epoch 14/20 : Training loss: 0.0498 | Training Accuracy: 6.3895\n",
      "Epoch 15/20 : Training loss: 0.0937 | Training Accuracy: 6.3895\n",
      "Epoch 16/20 : Training loss: 0.1007 | Training Accuracy: 6.3895\n",
      "Epoch 17/20 : Training loss: 0.1050 | Training Accuracy: 6.3895\n",
      "Epoch 18/20 : Training loss: 0.0814 | Training Accuracy: 6.3895\n",
      "Epoch 19/20 : Training loss: 0.0967 | Training Accuracy: 6.3895\n",
      "Epoch 20/20 : Training loss: 0.0656 | Training Accuracy: 6.3895\n"
     ]
    }
   ],
   "source": [
    "# criterion = nn.CrossEntropyLoss()\n",
    "# train_loss = []\n",
    "# train_acc = []\n",
    "\n",
    "\n",
    "\n",
    "# for epoch in range(num_epochs):\n",
    "# #     epochStartTime = time.time()\n",
    "    \n",
    "#     running_loss = 0.0 \n",
    "#     running_corr = 0\n",
    "#     count=0\n",
    "#     for i,data in enumerate(trainloader):\n",
    "#         inputs=data['images']\n",
    "#         labels=data['labels']\n",
    "#         inputs=inputs.float()\n",
    "#         labels=np.asarray(labels)\n",
    "#         #labels=labels.squeeze(axis=1)\n",
    "#         labels=torch.tensor(labels)\n",
    "        \n",
    "\n",
    "#         # Initializing model gradients to zero\n",
    "#         optimizer.zero_grad()\n",
    "#         # Data feed-forward through the network\n",
    "#         outputs = Net(inputs)\n",
    "#         # Predicted class is the one with maximum probability\n",
    "#         preds = torch.argmax(outputs,dim=1)\n",
    "#         # Finding the loss\n",
    "#         loss = F.nll_loss(outputs, labels.long())\n",
    "#         # Calculating gradients\n",
    "#         loss.backward()\n",
    "#         optimizer.step()\n",
    "\n",
    "#         # Accumulating the loss for each batch\n",
    "#         running_loss += loss \n",
    "#         # Accumulate number of correct predictions\n",
    "#         running_corr += torch.sum(preds==labels.long())    \n",
    "        \n",
    "   \n",
    "#     # Calculating gradients\n",
    "    \n",
    "#     # Updating the model parameters\n",
    "   \n",
    "        \n",
    "#     epoch_loss = running_loss.item()/(i+1)   #Total loss for one epoch\n",
    "#     epoch_acc = running_corr.item()/986\n",
    "    \n",
    "    \n",
    "         \n",
    "#     train_loss.append(epoch_loss) #Saving the loss over epochs for plotting the graph\n",
    "#     train_acc.append(epoch_acc) #Saving the accuracy over epochs for plotting the graph\n",
    "\n",
    "#     print('Epoch {:.0f}/{:.0f} : Training loss: {:.4f} | Training Accuracy: {:.4f}'.format(epoch+1,num_epochs,epoch_loss,epoch_acc*100))\n",
    "       "
   ]
  }
 ],
 "metadata": {
  "kernelspec": {
   "display_name": "Python 3",
   "language": "python",
   "name": "python3"
  },
  "language_info": {
   "codemirror_mode": {
    "name": "ipython",
    "version": 3
   },
   "file_extension": ".py",
   "mimetype": "text/x-python",
   "name": "python",
   "nbconvert_exporter": "python",
   "pygments_lexer": "ipython3",
   "version": "3.7.7"
  }
 },
 "nbformat": 4,
 "nbformat_minor": 4
}
